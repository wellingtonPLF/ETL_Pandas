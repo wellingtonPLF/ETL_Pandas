{
 "cells": [
  {
   "cell_type": "code",
   "execution_count": null,
   "metadata": {},
   "outputs": [],
   "source": [
    "from geoalchemy2 import Geometry\n",
    "from shapely.geometry import MultiPolygon\n",
    "from sqlalchemy.orm import sessionmaker\n",
    "from sqlalchemy.dialects.sqlite import insert\n",
    "from datetime import datetime, timedelta\n",
    "from sqlalchemy.sql import text\n",
    "import time\n",
    "import pandas as pd\n",
    "import sys\n",
    "sys.path.append('../')\n",
    "\n",
    "import app.config.mapping as mapping\n",
    "import app.shared.downloader as downloader\n",
    "import app.config.connection as connection"
   ]
  },
  {
   "cell_type": "code",
   "execution_count": null,
   "metadata": {},
   "outputs": [],
   "source": [
    "url = \"https://an-url-that-you-can-retrive-data-like-json-csv-xml-or-others.com\"\n",
    "\n",
    "engine =connection.getConnectionSqlAlchemyGetEngine()"
   ]
  },
  {
   "cell_type": "code",
   "execution_count": null,
   "metadata": {},
   "outputs": [],
   "source": [
    "result_data = downloader.readZipOnlineFile(url)"
   ]
  },
  {
   "cell_type": "code",
   "execution_count": null,
   "metadata": {},
   "outputs": [],
   "source": [
    "result_data.set_crs('EPSG:4674', allow_override=True)\n",
    "\n",
    "result_data = result_data.rename(columns=lambda x: x.lower())\n",
    "result_data = result_data.rename(columns={'geometry': 'column_4'})\n",
    "result_data['column_4'] = result_data['column_4'].apply(lambda x: MultiPolygon([x]) if x.geom_type=='Polygon' else x)\n",
    "\n",
    "registry_array = []\n",
    "limite_data = datetime.today() - timedelta(days=60)\n",
    "result_data['column_3'] = pd.to_datetime(result_data['column_3'])\n",
    "filtro = result_data['column_3'] >= limite_data\n",
    "dados_60_dias = result_data[filtro]"
   ]
  },
  {
   "cell_type": "code",
   "execution_count": null,
   "metadata": {},
   "outputs": [],
   "source": [
    "for index, row in dados_60_dias.iterrows():     \n",
    "\n",
    "    _registry = {\n",
    "        'integerColumn ':row['column_1'],\n",
    "        'stringColumn':row['column_2'],\n",
    "        'dateColumn': row['column_3'],\n",
    "        'geomColumn': row['column_4'],\n",
    "        'floatColumn': row['column_5'],\n",
    "        'textoColumn': row['column_6'],\n",
    "        'boolColumn': row['column_7'],\n",
    "        'date_timeColumn': row['column_8']\n",
    "    }\n",
    "    registry_array.append(_registry)"
   ]
  },
  {
   "cell_type": "code",
   "execution_count": null,
   "metadata": {},
   "outputs": [],
   "source": [
    "if(len(registry_array) > 0):\n",
    "        \n",
    "    Session = sessionmaker(bind=engine)\n",
    "    session = Session()\n",
    "    insert_stmt = insert(mapping.MyTable).values(registry_array)     \n",
    "    on_conflict_stmt = insert_stmt.on_conflict_do_nothing()\n",
    "    session.execute(on_conflict_stmt)\n",
    "    session.commit()     \n",
    "    print(\"inserts finalizados\")        \n",
    "else:\n",
    "    print('nenhum registro adicionado.')"
   ]
  }
 ],
 "metadata": {
  "kernelspec": {
   "display_name": "Python 3",
   "language": "python",
   "name": "python3"
  },
  "language_info": {
   "codemirror_mode": {
    "name": "ipython",
    "version": 3
   },
   "file_extension": ".py",
   "mimetype": "text/x-python",
   "name": "python",
   "nbconvert_exporter": "python",
   "pygments_lexer": "ipython3",
   "version": "3.11.0"
  }
 },
 "nbformat": 4,
 "nbformat_minor": 2
}
